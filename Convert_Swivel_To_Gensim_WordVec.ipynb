{
 "cells": [
  {
   "cell_type": "code",
   "execution_count": 1,
   "metadata": {},
   "outputs": [],
   "source": [
    "from vecs import Vecs\n",
    "import codecs\n",
    "import os\n",
    "import gensim"
   ]
  },
  {
   "cell_type": "code",
   "execution_count": 2,
   "metadata": {},
   "outputs": [],
   "source": [
    "embedding_path = 'embedding'\n",
    "vectors = os.path.join(embedding_path, 'vecs.bin')\n",
    "vocab = os.path.join(embedding_path, 'vocab.txt')\n",
    "vecs = Vecs(vocab, vectors)"
   ]
  },
  {
   "cell_type": "code",
   "execution_count": 3,
   "metadata": {},
   "outputs": [
    {
     "name": "stdout",
     "output_type": "stream",
     "text": [
      "300\n"
     ]
    }
   ],
   "source": [
    "print(vecs.vecs[0].shape[1])\n",
    "tmp_vocab = vecs.vocab\n",
    "tmp_vectors = vecs.vecs"
   ]
  },
  {
   "cell_type": "code",
   "execution_count": 4,
   "metadata": {},
   "outputs": [],
   "source": [
    "converted = 'swivel_wordvec.txt'\n",
    "fp = codecs.open(converted, 'w','utf-8')\n",
    "fp.write(str(len(vecs.vocab)) + \" \" + str(vecs.vecs[0].shape[1])+'\\n')\n",
    "for idx in range(len(vecs.vocab)):\n",
    "    tmp=tmp_vectors[idx].tolist()\n",
    "    fp.write(tmp_vocab[idx] + ' ')\n",
    "    if len(tmp[0]) != 300:\n",
    "        raise SystemExit\n",
    "    for item in tmp[0]:\n",
    "        fp.write(str(item)+ ' ')\n",
    "    fp.write('\\n')\n",
    "fp.close()"
   ]
  },
  {
   "cell_type": "code",
   "execution_count": 5,
   "metadata": {},
   "outputs": [],
   "source": [
    "W2V = gensim.models.KeyedVectors.load_word2vec_format('./swivel_wordvec.txt')"
   ]
  },
  {
   "cell_type": "code",
   "execution_count": 6,
   "metadata": {},
   "outputs": [],
   "source": [
    "W2V.save('swivel_word2vec.model')"
   ]
  }
 ],
 "metadata": {
  "kernelspec": {
   "display_name": "Python 2",
   "language": "python",
   "name": "python2"
  },
  "language_info": {
   "codemirror_mode": {
    "name": "ipython",
    "version": 3
   },
   "file_extension": ".py",
   "mimetype": "text/x-python",
   "name": "python",
   "nbconvert_exporter": "python",
   "pygments_lexer": "ipython3",
   "version": "3.5.2"
  }
 },
 "nbformat": 4,
 "nbformat_minor": 2
}
